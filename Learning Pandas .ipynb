{
 "cells": [
  {
   "cell_type": "code",
   "execution_count": 1,
   "metadata": {},
   "outputs": [],
   "source": [
    "import pandas as pd\n",
    "import numpy as np"
   ]
  },
  {
   "cell_type": "code",
   "execution_count": 2,
   "metadata": {},
   "outputs": [],
   "source": [
    "s = pd.Series([1, 3, 4, np.nan, 5, 7])"
   ]
  },
  {
   "cell_type": "code",
   "execution_count": 3,
   "metadata": {},
   "outputs": [
    {
     "name": "stdout",
     "output_type": "stream",
     "text": [
      "0    1.0\n",
      "1    3.0\n",
      "2    4.0\n",
      "3    NaN\n",
      "4    5.0\n",
      "5    7.0\n",
      "dtype: float64\n"
     ]
    }
   ],
   "source": [
    "print(s)"
   ]
  },
  {
   "cell_type": "code",
   "execution_count": 4,
   "metadata": {},
   "outputs": [
    {
     "name": "stdout",
     "output_type": "stream",
     "text": [
      "DatetimeIndex(['2020-05-01', '2020-05-02', '2020-05-03', '2020-05-04',\n",
      "               '2020-05-05', '2020-05-06'],\n",
      "              dtype='datetime64[ns]', freq='D')\n"
     ]
    }
   ],
   "source": [
    "sale_date = pd.date_range('20200501', periods=6)\n",
    "print(sale_date)"
   ]
  },
  {
   "cell_type": "code",
   "execution_count": 9,
   "metadata": {},
   "outputs": [
    {
     "name": "stdout",
     "output_type": "stream",
     "text": [
      "                 Mon       Tue       Wed\n",
      "2020-05-01  0.761438  0.098537  0.771961\n",
      "2020-05-02 -0.138873  0.110611  1.128360\n",
      "2020-05-03  0.342659  0.066603  0.078950\n",
      "2020-05-04  0.051416 -1.097302 -0.747096\n",
      "2020-05-05  0.802672 -1.218945  1.317005\n",
      "2020-05-06  1.096469 -0.031237 -0.629208\n"
     ]
    }
   ],
   "source": [
    "# Creating a DataFrame\n",
    "\n",
    "\n",
    "df = pd.DataFrame((np.random.randn(6, 3)), index = sale_date, columns = list([\"Mon\", \"Tue\", \"Wed\"]))\n",
    "print(df)"
   ]
  },
  {
   "cell_type": "code",
   "execution_count": 41,
   "metadata": {},
   "outputs": [
    {
     "name": "stdout",
     "output_type": "stream",
     "text": [
      "     A          B    C  D        E    F\n",
      "0  2.0 2020-05-01  1.0  3    Intro  foo\n",
      "1  2.0 2020-05-01  2.0  3     Data  foo\n",
      "2  2.0 2020-05-01  3.0  3  Science  foo\n",
      "3  2.0 2020-05-01  4.0  3     Test  foo\n"
     ]
    }
   ],
   "source": [
    "#Creating a DataFrame using a dictionary\n",
    "\n",
    "df2 = pd.DataFrame({'A': 2.,\n",
    "                    'B': pd.Timestamp(\"20200501\"),\n",
    "                    'C': pd.Series([1, 2, 3, 4], dtype='float32'),\n",
    "                    'D': np.array([3] * 4, dtype ='int32'),\n",
    "                    'E': pd.Categorical([\"Intro\", \"Data\", \"Science\", \"Test\"]),\n",
    "                    'F': \"foo\"})\n",
    "\n",
    "print(df2)"
   ]
  },
  {
   "cell_type": "code",
   "execution_count": 15,
   "metadata": {},
   "outputs": [
    {
     "name": "stdout",
     "output_type": "stream",
     "text": [
      "     A          B    C  D        E    F\n",
      "2  2.0 2020-05-01  3.0  3  Science  foo\n",
      "3  2.0 2020-05-01  4.0  3     Test  foo\n"
     ]
    }
   ],
   "source": [
    "# passing a value in the parentheses slices the dataframe\n",
    "print((df2.tail(2)))"
   ]
  },
  {
   "cell_type": "code",
   "execution_count": 17,
   "metadata": {},
   "outputs": [
    {
     "name": "stdout",
     "output_type": "stream",
     "text": [
      "     A          B    C  D        E    F\n",
      "0  2.0 2020-05-01  1.0  3    Intro  foo\n",
      "1  2.0 2020-05-01  2.0  3     Data  foo\n",
      "2  2.0 2020-05-01  3.0  3  Science  foo\n",
      "3  2.0 2020-05-01  4.0  3     Test  foo\n",
      "     A          B    C  D      E    F\n",
      "0  2.0 2020-05-01  1.0  3  Intro  foo\n",
      "1  2.0 2020-05-01  2.0  3   Data  foo\n"
     ]
    }
   ],
   "source": [
    "# df.head() first 5 by default\n",
    "print(df2.head())\n",
    "print(df2.head(2)) # first 2 example"
   ]
  },
  {
   "cell_type": "code",
   "execution_count": 19,
   "metadata": {},
   "outputs": [
    {
     "name": "stdout",
     "output_type": "stream",
     "text": [
      "Index(['A', 'B', 'C', 'D', 'E', 'F'], dtype='object')\n"
     ]
    }
   ],
   "source": [
    "# view the columns/ indexes\n",
    "print(df2.columns)"
   ]
  },
  {
   "cell_type": "code",
   "execution_count": 20,
   "metadata": {},
   "outputs": [
    {
     "name": "stdout",
     "output_type": "stream",
     "text": [
      "DatetimeIndex(['2020-05-01', '2020-05-02', '2020-05-03', '2020-05-04',\n",
      "               '2020-05-05', '2020-05-06'],\n",
      "              dtype='datetime64[ns]', freq='D')\n"
     ]
    }
   ],
   "source": [
    "print(df.index)"
   ]
  },
  {
   "cell_type": "markdown",
   "metadata": {},
   "source": [
    "## Dataframe to Numpy Array\n"
   ]
  },
  {
   "cell_type": "code",
   "execution_count": 26,
   "metadata": {},
   "outputs": [
    {
     "name": "stdout",
     "output_type": "stream",
     "text": [
      "[[ 0.76143756  0.09853708  0.77196121]\n",
      " [-0.13887318  0.11061148  1.12835972]\n",
      " [ 0.34265883  0.06660349  0.07895026]\n",
      " [ 0.05141625 -1.09730232 -0.74709609]\n",
      " [ 0.80267245 -1.21894547  1.31700511]\n",
      " [ 1.09646945 -0.031237   -0.62920759]]\n"
     ]
    }
   ],
   "source": [
    "# Converting our first dataframe as it is all floating values it doesn't cost muchh space compared to df2 as it requires data to be copied.\n",
    "print(df.to_numpy())"
   ]
  },
  {
   "cell_type": "code",
   "execution_count": 22,
   "metadata": {},
   "outputs": [
    {
     "name": "stdout",
     "output_type": "stream",
     "text": [
      "[[2.0 Timestamp('2020-05-01 00:00:00') 1.0 3 'Intro' 'foo']\n",
      " [2.0 Timestamp('2020-05-01 00:00:00') 2.0 3 'Data' 'foo']\n",
      " [2.0 Timestamp('2020-05-01 00:00:00') 3.0 3 'Science' 'foo']\n",
      " [2.0 Timestamp('2020-05-01 00:00:00') 4.0 3 'Test' 'foo']]\n"
     ]
    }
   ],
   "source": [
    "print(df2.to_numpy())"
   ]
  },
  {
   "cell_type": "markdown",
   "metadata": {},
   "source": [
    "## Dataframe Information"
   ]
  },
  {
   "cell_type": "code",
   "execution_count": 27,
   "metadata": {},
   "outputs": [
    {
     "name": "stdout",
     "output_type": "stream",
     "text": [
      "<class 'pandas.core.frame.DataFrame'>\n",
      "DatetimeIndex: 6 entries, 2020-05-01 to 2020-05-06\n",
      "Freq: D\n",
      "Data columns (total 3 columns):\n",
      " #   Column  Non-Null Count  Dtype  \n",
      "---  ------  --------------  -----  \n",
      " 0   Mon     6 non-null      float64\n",
      " 1   Tue     6 non-null      float64\n",
      " 2   Wed     6 non-null      float64\n",
      "dtypes: float64(3)\n",
      "memory usage: 192.0 bytes\n",
      "None\n"
     ]
    }
   ],
   "source": [
    "# shows all the info about the dataframe\n",
    "\n",
    "# No. of entries\n",
    "# Amount of Columns\n",
    "# Count of values per column\n",
    "# Dtype of each column\n",
    "\n",
    "\n",
    "print(df.info())"
   ]
  },
  {
   "cell_type": "code",
   "execution_count": 25,
   "metadata": {},
   "outputs": [
    {
     "name": "stdout",
     "output_type": "stream",
     "text": [
      "            Mon       Tue       Wed\n",
      "count  6.000000  6.000000  6.000000\n",
      "mean   0.485964 -0.345289  0.319995\n",
      "std    0.479311  0.632758  0.888766\n",
      "min   -0.138873 -1.218945 -0.747096\n",
      "25%    0.124227 -0.830786 -0.452168\n",
      "50%    0.552048  0.017683  0.425456\n",
      "75%    0.792364  0.090554  1.039260\n",
      "max    1.096469  0.110611  1.317005\n"
     ]
    }
   ],
   "source": [
    "# shows a quick statistic summary of the dataframe\n",
    "\n",
    "print(df.describe())"
   ]
  },
  {
   "cell_type": "markdown",
   "metadata": {},
   "source": [
    "## Transforming Data "
   ]
  },
  {
   "cell_type": "code",
   "execution_count": 30,
   "metadata": {},
   "outputs": [
    {
     "name": "stdout",
     "output_type": "stream",
     "text": [
      "     2020-05-01  2020-05-02  2020-05-03  2020-05-04  2020-05-05  2020-05-06\n",
      "Mon    0.761438   -0.138873    0.342659    0.051416    0.802672    1.096469\n",
      "Tue    0.098537    0.110611    0.066603   -1.097302   -1.218945   -0.031237\n",
      "Wed    0.771961    1.128360    0.078950   -0.747096    1.317005   -0.629208\n"
     ]
    }
   ],
   "source": [
    "# transpose Dataframe\n",
    "print(df.T)"
   ]
  },
  {
   "cell_type": "code",
   "execution_count": 33,
   "metadata": {},
   "outputs": [
    {
     "name": "stdout",
     "output_type": "stream",
     "text": [
      "                 Wed       Tue       Mon\n",
      "2020-05-01  0.771961  0.098537  0.761438\n",
      "2020-05-02  1.128360  0.110611 -0.138873\n",
      "2020-05-03  0.078950  0.066603  0.342659\n",
      "2020-05-04 -0.747096 -1.097302  0.051416\n",
      "2020-05-05  1.317005 -1.218945  0.802672\n",
      "2020-05-06 -0.629208 -0.031237  1.096469\n"
     ]
    }
   ],
   "source": [
    "# Sort by an Axis\n",
    "\n",
    "# Axis:                  Ascending:\n",
    "# 1 = Column              False = Descend\n",
    "# 2 = Row                 True = Ascend\n",
    "\n",
    "\n",
    "print(df.sort_index(axis=1, ascending= False))"
   ]
  },
  {
   "cell_type": "code",
   "execution_count": 40,
   "metadata": {},
   "outputs": [],
   "source": [
    "# Sort by a Value\n",
    "\n",
    "# you can select any column to sort by.\n",
    "# you can also use ascending=.... to sort.S\n",
    "\n",
    "# print(df.sort_values(by='C'))"
   ]
  },
  {
   "cell_type": "markdown",
   "metadata": {},
   "source": [
    "## Selecting Data"
   ]
  },
  {
   "cell_type": "code",
   "execution_count": 48,
   "metadata": {},
   "outputs": [
    {
     "name": "stdout",
     "output_type": "stream",
     "text": [
      "                 Mon       Tue       Wed\n",
      "2020-05-01  0.761438  0.098537  0.771961\n",
      "2020-05-02 -0.138873  0.110611  1.128360\n",
      "2020-05-03  0.342659  0.066603  0.078950\n",
      "2020-05-04  0.051416 -1.097302 -0.747096\n",
      "2020-05-05  0.802672 -1.218945  1.317005\n",
      "2020-05-06  1.096469 -0.031237 -0.629208\n"
     ]
    }
   ],
   "source": [
    "# Slicing a Dataframe by index\n",
    "\n",
    "# Slicing using [] selects rows. In this example [0:2] selects rows 1 to 2.\n",
    "\n",
    "# Remember that in Python indexing starts from 0 not 1.\n",
    "\n",
    "print(df[:])"
   ]
  },
  {
   "cell_type": "code",
   "execution_count": 50,
   "metadata": {},
   "outputs": [
    {
     "name": "stdout",
     "output_type": "stream",
     "text": [
      "                 Mon       Tue       Wed\n",
      "2020-05-01  0.761438  0.098537  0.771961\n",
      "2020-05-02 -0.138873  0.110611  1.128360\n",
      "2020-05-03  0.342659  0.066603  0.078950\n",
      "2020-05-04  0.051416 -1.097302 -0.747096\n",
      "2020-05-05  0.802672 -1.218945  1.317005\n",
      "2020-05-06  1.096469 -0.031237 -0.629208\n"
     ]
    }
   ],
   "source": [
    "# Slicing a Dataframe by index cont.\n",
    "\n",
    "# You can also slice a dataframe by the row freatures. In this example we slice the rows by the dates in the index column.\n",
    "print(df[:])"
   ]
  }
 ],
 "metadata": {
  "kernelspec": {
   "display_name": "Python 3",
   "language": "python",
   "name": "python3"
  },
  "language_info": {
   "codemirror_mode": {
    "name": "ipython",
    "version": 3
   },
   "file_extension": ".py",
   "mimetype": "text/x-python",
   "name": "python",
   "nbconvert_exporter": "python",
   "pygments_lexer": "ipython3",
   "version": "3.7.6"
  }
 },
 "nbformat": 4,
 "nbformat_minor": 4
}
